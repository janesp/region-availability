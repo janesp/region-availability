{
 "cells": [
  {
   "cell_type": "markdown",
   "id": "96b6b90a-37c7-485d-922b-a2e2e1cd6bda",
   "metadata": {
    "tags": []
   },
   "source": [
    "# Generate Region Availability File"
   ]
  },
  {
   "cell_type": "markdown",
   "id": "84f25dd6-1069-4153-8ad8-2c891c634c65",
   "metadata": {},
   "source": [
    "This utility generates random availability information for muultiple periods to be displayed for regions on maps. Availability can be anything, such as energy."
   ]
  },
  {
   "cell_type": "code",
   "execution_count": 1,
   "id": "f324b9d9-a1fb-46bd-856c-1c86eec85cb9",
   "metadata": {},
   "outputs": [
    {
     "name": "stderr",
     "output_type": "stream",
     "text": [
      "/Users/peterjanes/.local/share/virtualenvs/python38-O-C_Z_QB/lib/python3.8/site-packages/pandas/compat/__init__.py:124: UserWarning: Could not import the lzma module. Your installed Python is incomplete. Attempting to use lzma compression will result in a RuntimeError.\n",
      "  warnings.warn(msg)\n"
     ]
    }
   ],
   "source": [
    "import pandas as pd\n",
    "import geopandas as gpd\n",
    "import random\n",
    "import json"
   ]
  },
  {
   "cell_type": "code",
   "execution_count": 2,
   "id": "e27d97eb-4817-4153-90aa-d2836bdcffc5",
   "metadata": {},
   "outputs": [],
   "source": [
    "# reading regions (only used to get region identifiers and names)\n",
    "# Swiss Kantons for this example, but can be any region list (for later display as shapes on map)\n",
    "shapeFilename = \"SHAPEFILE_LV95_LN02/swissBOUNDARIES3D_1_3_TLM_KANTONSGEBIET.shp\"\n",
    "\n",
    "# generating availability file\n",
    "# schema filename\n",
    "schemaFilename = \"AvailabilityMapSchema.json\"\n",
    "# availability filename\n",
    "availabilityFilename = \"AvailabilityMapProvider3.json\""
   ]
  },
  {
   "cell_type": "code",
   "execution_count": 3,
   "id": "a0e0b877-8922-4853-9abd-8acc77c0dda6",
   "metadata": {
    "tags": []
   },
   "outputs": [],
   "source": [
    "# availability information provider\n",
    "providerId = 789\n",
    "providerName = \"Provider 3\""
   ]
  },
  {
   "cell_type": "code",
   "execution_count": 4,
   "id": "e28d8619-74da-4153-993e-7d3f8c9b06e1",
   "metadata": {},
   "outputs": [],
   "source": [
    "# availability period parameters\n",
    "noOfPeriods = 5\n",
    "startDate = \"2022-12-06\"\n",
    "intervalHours = 4"
   ]
  },
  {
   "cell_type": "markdown",
   "id": "cee719d0-0a13-4a7e-b338-a56d60cc4985",
   "metadata": {},
   "source": [
    "## Load Regions"
   ]
  },
  {
   "cell_type": "markdown",
   "id": "be420525-2054-4e51-a5ff-ed41acacf7e3",
   "metadata": {},
   "source": [
    "Using Kantons in this example, but could be any region"
   ]
  },
  {
   "cell_type": "code",
   "execution_count": 5,
   "id": "81788674-7857-4683-a48c-ab4aca6a54ae",
   "metadata": {},
   "outputs": [],
   "source": [
    "shape_regions = gpd.read_file(shapeFilename)"
   ]
  },
  {
   "cell_type": "code",
   "execution_count": 6,
   "id": "3f5e3185-6368-40f1-acc4-49df282e88c4",
   "metadata": {},
   "outputs": [
    {
     "data": {
      "text/html": [
       "<div>\n",
       "<style scoped>\n",
       "    .dataframe tbody tr th:only-of-type {\n",
       "        vertical-align: middle;\n",
       "    }\n",
       "\n",
       "    .dataframe tbody tr th {\n",
       "        vertical-align: top;\n",
       "    }\n",
       "\n",
       "    .dataframe thead th {\n",
       "        text-align: right;\n",
       "    }\n",
       "</style>\n",
       "<table border=\"1\" class=\"dataframe\">\n",
       "  <thead>\n",
       "    <tr style=\"text-align: right;\">\n",
       "      <th></th>\n",
       "      <th>UUID</th>\n",
       "      <th>DATUM_AEND</th>\n",
       "      <th>DATUM_ERST</th>\n",
       "      <th>ERSTELL_J</th>\n",
       "      <th>ERSTELL_M</th>\n",
       "      <th>REVISION_J</th>\n",
       "      <th>REVISION_M</th>\n",
       "      <th>GRUND_AEND</th>\n",
       "      <th>HERKUNFT</th>\n",
       "      <th>HERKUNFT_J</th>\n",
       "      <th>...</th>\n",
       "      <th>OBJEKTART</th>\n",
       "      <th>REVISION_Q</th>\n",
       "      <th>ICC</th>\n",
       "      <th>KANTONSNUM</th>\n",
       "      <th>SEE_FLAECH</th>\n",
       "      <th>KANTONSFLA</th>\n",
       "      <th>KT_TEIL</th>\n",
       "      <th>NAME</th>\n",
       "      <th>EINWOHNERZ</th>\n",
       "      <th>geometry</th>\n",
       "    </tr>\n",
       "  </thead>\n",
       "  <tbody>\n",
       "    <tr>\n",
       "      <th>0</th>\n",
       "      <td>{0B2364ED-49E0-4D53-A33C-C684DD530B57}</td>\n",
       "      <td>2018-11-22</td>\n",
       "      <td>2012-10-26</td>\n",
       "      <td>2012</td>\n",
       "      <td>10</td>\n",
       "      <td>2022</td>\n",
       "      <td>5</td>\n",
       "      <td>Verbessert</td>\n",
       "      <td>AV</td>\n",
       "      <td>2019</td>\n",
       "      <td>...</td>\n",
       "      <td>Kanton</td>\n",
       "      <td>2021_Aufbau</td>\n",
       "      <td>CH</td>\n",
       "      <td>18</td>\n",
       "      <td>NaN</td>\n",
       "      <td>710530.0</td>\n",
       "      <td>0</td>\n",
       "      <td>Graubünden</td>\n",
       "      <td>200096.0</td>\n",
       "      <td>POLYGON Z ((2735215.665 1194955.161 2870.714, ...</td>\n",
       "    </tr>\n",
       "    <tr>\n",
       "      <th>1</th>\n",
       "      <td>{DDD56CEF-0E61-4EED-85ED-F67A459C93ED}</td>\n",
       "      <td>2021-11-02</td>\n",
       "      <td>2012-10-26</td>\n",
       "      <td>2012</td>\n",
       "      <td>10</td>\n",
       "      <td>2022</td>\n",
       "      <td>5</td>\n",
       "      <td>Verbessert</td>\n",
       "      <td>AV</td>\n",
       "      <td>2021</td>\n",
       "      <td>...</td>\n",
       "      <td>Kanton</td>\n",
       "      <td>2021_Aufbau</td>\n",
       "      <td>CH</td>\n",
       "      <td>2</td>\n",
       "      <td>11897.0</td>\n",
       "      <td>595850.0</td>\n",
       "      <td>1</td>\n",
       "      <td>Bern</td>\n",
       "      <td>1043081.0</td>\n",
       "      <td>POLYGON Z ((2595241.510 1169313.282 2090.846, ...</td>\n",
       "    </tr>\n",
       "    <tr>\n",
       "      <th>2</th>\n",
       "      <td>{54B25E50-30A7-4995-ADE3-5FFF6E13A995}</td>\n",
       "      <td>2018-11-22</td>\n",
       "      <td>2012-10-26</td>\n",
       "      <td>2012</td>\n",
       "      <td>10</td>\n",
       "      <td>2022</td>\n",
       "      <td>5</td>\n",
       "      <td>Verbessert</td>\n",
       "      <td>AV</td>\n",
       "      <td>2019</td>\n",
       "      <td>...</td>\n",
       "      <td>Kanton</td>\n",
       "      <td>2021_Aufbau</td>\n",
       "      <td>CH</td>\n",
       "      <td>23</td>\n",
       "      <td>1060.0</td>\n",
       "      <td>522463.0</td>\n",
       "      <td>0</td>\n",
       "      <td>Valais</td>\n",
       "      <td>348503.0</td>\n",
       "      <td>POLYGON Z ((2601807.628 1136116.777 2948.413, ...</td>\n",
       "    </tr>\n",
       "    <tr>\n",
       "      <th>3</th>\n",
       "      <td>{921DFEF2-6D91-4CB8-9CFC-2A831C412020}</td>\n",
       "      <td>2019-11-06</td>\n",
       "      <td>2012-10-26</td>\n",
       "      <td>2012</td>\n",
       "      <td>10</td>\n",
       "      <td>2022</td>\n",
       "      <td>5</td>\n",
       "      <td>Verbessert</td>\n",
       "      <td>swisstopo</td>\n",
       "      <td>2019</td>\n",
       "      <td>...</td>\n",
       "      <td>Kanton</td>\n",
       "      <td>2021_Aufbau</td>\n",
       "      <td>CH</td>\n",
       "      <td>22</td>\n",
       "      <td>39097.0</td>\n",
       "      <td>321202.0</td>\n",
       "      <td>1</td>\n",
       "      <td>Vaud</td>\n",
       "      <td>814762.0</td>\n",
       "      <td>POLYGON Z ((2555092.813 1138713.419 372.133, 2...</td>\n",
       "    </tr>\n",
       "    <tr>\n",
       "      <th>4</th>\n",
       "      <td>{95F10F52-8B2F-4D6A-AF7E-D4F915E42F89}</td>\n",
       "      <td>2020-11-19</td>\n",
       "      <td>2012-10-26</td>\n",
       "      <td>2012</td>\n",
       "      <td>10</td>\n",
       "      <td>2022</td>\n",
       "      <td>5</td>\n",
       "      <td>Verbessert</td>\n",
       "      <td>AV</td>\n",
       "      <td>2020</td>\n",
       "      <td>...</td>\n",
       "      <td>Kanton</td>\n",
       "      <td>2021_Aufbau</td>\n",
       "      <td>CH</td>\n",
       "      <td>21</td>\n",
       "      <td>7147.0</td>\n",
       "      <td>281215.0</td>\n",
       "      <td>0</td>\n",
       "      <td>Ticino</td>\n",
       "      <td>350986.0</td>\n",
       "      <td>POLYGON Z ((2727358.511 1119219.094 1351.527, ...</td>\n",
       "    </tr>\n",
       "  </tbody>\n",
       "</table>\n",
       "<p>5 rows × 21 columns</p>\n",
       "</div>"
      ],
      "text/plain": [
       "                                     UUID  DATUM_AEND  DATUM_ERST  ERSTELL_J  \\\n",
       "0  {0B2364ED-49E0-4D53-A33C-C684DD530B57}  2018-11-22  2012-10-26       2012   \n",
       "1  {DDD56CEF-0E61-4EED-85ED-F67A459C93ED}  2021-11-02  2012-10-26       2012   \n",
       "2  {54B25E50-30A7-4995-ADE3-5FFF6E13A995}  2018-11-22  2012-10-26       2012   \n",
       "3  {921DFEF2-6D91-4CB8-9CFC-2A831C412020}  2019-11-06  2012-10-26       2012   \n",
       "4  {95F10F52-8B2F-4D6A-AF7E-D4F915E42F89}  2020-11-19  2012-10-26       2012   \n",
       "\n",
       "  ERSTELL_M  REVISION_J REVISION_M  GRUND_AEND   HERKUNFT  HERKUNFT_J  ...  \\\n",
       "0        10        2022          5  Verbessert         AV        2019  ...   \n",
       "1        10        2022          5  Verbessert         AV        2021  ...   \n",
       "2        10        2022          5  Verbessert         AV        2019  ...   \n",
       "3        10        2022          5  Verbessert  swisstopo        2019  ...   \n",
       "4        10        2022          5  Verbessert         AV        2020  ...   \n",
       "\n",
       "  OBJEKTART   REVISION_Q ICC KANTONSNUM  SEE_FLAECH  KANTONSFLA  KT_TEIL  \\\n",
       "0    Kanton  2021_Aufbau  CH         18         NaN    710530.0        0   \n",
       "1    Kanton  2021_Aufbau  CH          2     11897.0    595850.0        1   \n",
       "2    Kanton  2021_Aufbau  CH         23      1060.0    522463.0        0   \n",
       "3    Kanton  2021_Aufbau  CH         22     39097.0    321202.0        1   \n",
       "4    Kanton  2021_Aufbau  CH         21      7147.0    281215.0        0   \n",
       "\n",
       "         NAME EINWOHNERZ                                           geometry  \n",
       "0  Graubünden   200096.0  POLYGON Z ((2735215.665 1194955.161 2870.714, ...  \n",
       "1        Bern  1043081.0  POLYGON Z ((2595241.510 1169313.282 2090.846, ...  \n",
       "2      Valais   348503.0  POLYGON Z ((2601807.628 1136116.777 2948.413, ...  \n",
       "3        Vaud   814762.0  POLYGON Z ((2555092.813 1138713.419 372.133, 2...  \n",
       "4      Ticino   350986.0  POLYGON Z ((2727358.511 1119219.094 1351.527, ...  \n",
       "\n",
       "[5 rows x 21 columns]"
      ]
     },
     "execution_count": 6,
     "metadata": {},
     "output_type": "execute_result"
    }
   ],
   "source": [
    "shape_regions.head()"
   ]
  },
  {
   "cell_type": "code",
   "execution_count": 7,
   "id": "dc292a34-d944-4def-8092-c1446963b2a7",
   "metadata": {},
   "outputs": [
    {
     "data": {
      "text/html": [
       "<div>\n",
       "<style scoped>\n",
       "    .dataframe tbody tr th:only-of-type {\n",
       "        vertical-align: middle;\n",
       "    }\n",
       "\n",
       "    .dataframe tbody tr th {\n",
       "        vertical-align: top;\n",
       "    }\n",
       "\n",
       "    .dataframe thead th {\n",
       "        text-align: right;\n",
       "    }\n",
       "</style>\n",
       "<table border=\"1\" class=\"dataframe\">\n",
       "  <thead>\n",
       "    <tr style=\"text-align: right;\">\n",
       "      <th></th>\n",
       "      <th>NAME</th>\n",
       "      <th>KANTONSNUM</th>\n",
       "    </tr>\n",
       "  </thead>\n",
       "  <tbody>\n",
       "    <tr>\n",
       "      <th>0</th>\n",
       "      <td>Graubünden</td>\n",
       "      <td>18</td>\n",
       "    </tr>\n",
       "    <tr>\n",
       "      <th>1</th>\n",
       "      <td>Bern</td>\n",
       "      <td>2</td>\n",
       "    </tr>\n",
       "    <tr>\n",
       "      <th>2</th>\n",
       "      <td>Valais</td>\n",
       "      <td>23</td>\n",
       "    </tr>\n",
       "    <tr>\n",
       "      <th>3</th>\n",
       "      <td>Vaud</td>\n",
       "      <td>22</td>\n",
       "    </tr>\n",
       "    <tr>\n",
       "      <th>4</th>\n",
       "      <td>Ticino</td>\n",
       "      <td>21</td>\n",
       "    </tr>\n",
       "  </tbody>\n",
       "</table>\n",
       "</div>"
      ],
      "text/plain": [
       "         NAME  KANTONSNUM\n",
       "0  Graubünden          18\n",
       "1        Bern           2\n",
       "2      Valais          23\n",
       "3        Vaud          22\n",
       "4      Ticino          21"
      ]
     },
     "execution_count": 7,
     "metadata": {},
     "output_type": "execute_result"
    }
   ],
   "source": [
    "# shapes actually not required - just creating list of regions with unique identifiers and names\n",
    "r_list = pd.DataFrame(shape_regions,columns=['NAME','KANTONSNUM']).drop_duplicates(subset = \"NAME\")\n",
    "r_list.head()"
   ]
  },
  {
   "cell_type": "code",
   "execution_count": 8,
   "id": "ef01efe7-2674-4abe-a6e3-e08ea6b6d021",
   "metadata": {},
   "outputs": [],
   "source": [
    "# generating period sequence with ramdom values\n",
    "def random_period(p):\n",
    "    p_list = [False] * p\n",
    "    for pl in range(len(p_list)):\n",
    "        p_list[pl] = bool(random.getrandbits(1))\n",
    "    return p_list"
   ]
  },
  {
   "cell_type": "code",
   "execution_count": 9,
   "id": "52f58c6d-7280-4c95-affc-71f2adefb837",
   "metadata": {},
   "outputs": [
    {
     "data": {
      "text/plain": [
       "[[[18, 'Graubünden'], [True, True, True, False, True]],\n",
       " [[2, 'Bern'], [False, False, False, True, False]],\n",
       " [[23, 'Valais'], [True, True, False, False, False]],\n",
       " [[22, 'Vaud'], [False, False, False, False, True]],\n",
       " [[21, 'Ticino'], [True, False, True, False, True]],\n",
       " [[17, 'St. Gallen'], [True, True, True, True, False]],\n",
       " [[1, 'Zürich'], [False, False, True, False, False]],\n",
       " [[10, 'Fribourg'], [False, False, True, False, True]],\n",
       " [[3, 'Luzern'], [False, True, False, False, False]],\n",
       " [[19, 'Aargau'], [False, True, True, False, True]],\n",
       " [[4, 'Uri'], [False, False, False, False, True]],\n",
       " [[20, 'Thurgau'], [False, False, False, False, False]],\n",
       " [[5, 'Schwyz'], [True, True, True, True, True]],\n",
       " [[26, 'Jura'], [True, True, False, True, False]],\n",
       " [[24, 'Neuchâtel'], [False, True, True, True, False]],\n",
       " [[11, 'Solothurn'], [False, True, False, False, True]],\n",
       " [[8, 'Glarus'], [True, True, False, False, False]],\n",
       " [[13, 'Basel-Landschaft'], [True, True, False, False, True]],\n",
       " [[6, 'Obwalden'], [True, True, True, False, False]],\n",
       " [[7, 'Nidwalden'], [True, False, False, True, True]],\n",
       " [[25, 'Genève'], [False, False, False, True, False]],\n",
       " [[14, 'Schaffhausen'], [False, True, False, False, True]],\n",
       " [[15, 'Appenzell Ausserrhoden'], [True, False, True, False, False]],\n",
       " [[9, 'Zug'], [False, True, True, True, True]],\n",
       " [[16, 'Appenzell Innerrhoden'], [False, False, False, False, True]],\n",
       " [[12, 'Basel-Stadt'], [False, False, True, False, False]]]"
      ]
     },
     "execution_count": 9,
     "metadata": {},
     "output_type": "execute_result"
    }
   ],
   "source": [
    "# gererate random period sequences for all regions\n",
    "r_settings = []\n",
    "for i, rg in r_list.iterrows():\n",
    "    r_settings.append([[rg['KANTONSNUM'], rg['NAME']], random_period(noOfPeriods)])\n",
    "r_settings"
   ]
  },
  {
   "cell_type": "markdown",
   "id": "2a722a03-07ba-41e4-bb91-005cf1d1e648",
   "metadata": {},
   "source": [
    "## Creating structure, writing to json file"
   ]
  },
  {
   "cell_type": "code",
   "execution_count": 10,
   "id": "7b73479d-547d-47fa-b3aa-ed2810504b07",
   "metadata": {},
   "outputs": [
    {
     "data": {
      "text/plain": [
       "{'$schema': 'AvailabilityMapSchema.json',\n",
       " 'provider': {'providerId': 789, 'providerName': 'Provider 3'},\n",
       " 'regionPeriods': {'noOfPeriods': 5,\n",
       "  'startDate': '2022-12-06',\n",
       "  'intervalHours': 4,\n",
       "  'regionPeriodValues': [{'region': {'regionId': 18,\n",
       "     'regionName': 'Graubünden'},\n",
       "    'periodValues': [True, True, True, False, True]},\n",
       "   {'region': {'regionId': 2, 'regionName': 'Bern'},\n",
       "    'periodValues': [False, False, False, True, False]},\n",
       "   {'region': {'regionId': 23, 'regionName': 'Valais'},\n",
       "    'periodValues': [True, True, False, False, False]},\n",
       "   {'region': {'regionId': 22, 'regionName': 'Vaud'},\n",
       "    'periodValues': [False, False, False, False, True]},\n",
       "   {'region': {'regionId': 21, 'regionName': 'Ticino'},\n",
       "    'periodValues': [True, False, True, False, True]},\n",
       "   {'region': {'regionId': 17, 'regionName': 'St. Gallen'},\n",
       "    'periodValues': [True, True, True, True, False]},\n",
       "   {'region': {'regionId': 1, 'regionName': 'Zürich'},\n",
       "    'periodValues': [False, False, True, False, False]},\n",
       "   {'region': {'regionId': 10, 'regionName': 'Fribourg'},\n",
       "    'periodValues': [False, False, True, False, True]},\n",
       "   {'region': {'regionId': 3, 'regionName': 'Luzern'},\n",
       "    'periodValues': [False, True, False, False, False]},\n",
       "   {'region': {'regionId': 19, 'regionName': 'Aargau'},\n",
       "    'periodValues': [False, True, True, False, True]},\n",
       "   {'region': {'regionId': 4, 'regionName': 'Uri'},\n",
       "    'periodValues': [False, False, False, False, True]},\n",
       "   {'region': {'regionId': 20, 'regionName': 'Thurgau'},\n",
       "    'periodValues': [False, False, False, False, False]},\n",
       "   {'region': {'regionId': 5, 'regionName': 'Schwyz'},\n",
       "    'periodValues': [True, True, True, True, True]},\n",
       "   {'region': {'regionId': 26, 'regionName': 'Jura'},\n",
       "    'periodValues': [True, True, False, True, False]},\n",
       "   {'region': {'regionId': 24, 'regionName': 'Neuchâtel'},\n",
       "    'periodValues': [False, True, True, True, False]},\n",
       "   {'region': {'regionId': 11, 'regionName': 'Solothurn'},\n",
       "    'periodValues': [False, True, False, False, True]},\n",
       "   {'region': {'regionId': 8, 'regionName': 'Glarus'},\n",
       "    'periodValues': [True, True, False, False, False]},\n",
       "   {'region': {'regionId': 13, 'regionName': 'Basel-Landschaft'},\n",
       "    'periodValues': [True, True, False, False, True]},\n",
       "   {'region': {'regionId': 6, 'regionName': 'Obwalden'},\n",
       "    'periodValues': [True, True, True, False, False]},\n",
       "   {'region': {'regionId': 7, 'regionName': 'Nidwalden'},\n",
       "    'periodValues': [True, False, False, True, True]},\n",
       "   {'region': {'regionId': 25, 'regionName': 'Genève'},\n",
       "    'periodValues': [False, False, False, True, False]},\n",
       "   {'region': {'regionId': 14, 'regionName': 'Schaffhausen'},\n",
       "    'periodValues': [False, True, False, False, True]},\n",
       "   {'region': {'regionId': 15, 'regionName': 'Appenzell Ausserrhoden'},\n",
       "    'periodValues': [True, False, True, False, False]},\n",
       "   {'region': {'regionId': 9, 'regionName': 'Zug'},\n",
       "    'periodValues': [False, True, True, True, True]},\n",
       "   {'region': {'regionId': 16, 'regionName': 'Appenzell Innerrhoden'},\n",
       "    'periodValues': [False, False, False, False, True]},\n",
       "   {'region': {'regionId': 12, 'regionName': 'Basel-Stadt'},\n",
       "    'periodValues': [False, False, True, False, False]}]}}"
      ]
     },
     "execution_count": 10,
     "metadata": {},
     "output_type": "execute_result"
    }
   ],
   "source": [
    "regionAvailabilities = {\n",
    "    \"$schema\": schemaFilename,\n",
    "    \"provider\": {\n",
    "        \"providerId\": providerId,\n",
    "        \"providerName\": providerName\n",
    "    },\n",
    "    \"regionPeriods\": {\n",
    "        \"noOfPeriods\": noOfPeriods,\n",
    "        \"startDate\": startDate,\n",
    "        \"intervalHours\": intervalHours,\n",
    "        \"regionPeriodValues\": []\n",
    "    }\n",
    "}\n",
    "\n",
    "regionPeriodValues = []\n",
    "for r in range(len(r_settings)):\n",
    "    regVal = { \"region\": { \"regionId\": r_settings[r][0][0], \"regionName\": r_settings[r][0][1] }, \"periodValues\": r_settings[r][1] }\n",
    "    regionAvailabilities['regionPeriods']['regionPeriodValues'].append(regVal)\n",
    "regionAvailabilities"
   ]
  },
  {
   "cell_type": "code",
   "execution_count": 11,
   "id": "83a2b8ec-7cbb-493c-9adf-d9f120a45317",
   "metadata": {},
   "outputs": [],
   "source": [
    "# Serializing json\n",
    "json_object = json.dumps(regionAvailabilities, indent=2, ensure_ascii=False)\n",
    "\n",
    "# Writing to file\n",
    "with open(availabilityFilename, \"w\") as outfile:\n",
    "    outfile.write(json_object)"
   ]
  },
  {
   "cell_type": "code",
   "execution_count": null,
   "id": "60a2afb6-6d51-4fa9-8c7e-026639a3c9c2",
   "metadata": {},
   "outputs": [],
   "source": []
  }
 ],
 "metadata": {
  "kernelspec": {
   "display_name": "Python 3 (ipykernel)",
   "language": "python",
   "name": "python3"
  },
  "language_info": {
   "codemirror_mode": {
    "name": "ipython",
    "version": 3
   },
   "file_extension": ".py",
   "mimetype": "text/x-python",
   "name": "python",
   "nbconvert_exporter": "python",
   "pygments_lexer": "ipython3",
   "version": "3.8.11"
  }
 },
 "nbformat": 4,
 "nbformat_minor": 5
}
